{
  "cells": [
    {
      "cell_type": "markdown",
<<<<<<< HEAD:src/notebooks/Modelo_de_Recomendacao_CDF.ipynb
      "metadata": {
        "id": "Se5LdfEJtXMN"
      },
      "source": [
        "# Modelo de Recomendação - CDF"
      ]
    },
    {
      "cell_type": "markdown",
      "metadata": {
        "id": "z_crrHZItjI-"
      },
      "source": [
        "O código abaixo monta o Google Drive no diretório `/content/drive` em um ambiente de notebook colaborativo do Google Colab."
      ]
    },
    {
      "cell_type": "code",
      "execution_count": null,
      "metadata": {
        "colab": {
          "base_uri": "https://localhost:8080/"
        },
        "id": "_wN5bvslMPVv",
        "outputId": "90303680-f5d4-4642-a415-ba478f70f6ad"
      },
      "outputs": [
        {
          "ename": "",
          "evalue": "",
          "output_type": "error",
          "traceback": [
            "\u001b[1;31mFailed to start the Kernel. \n",
            "\u001b[1;31mUnable to start Kernel 'Python 3.11.4' due to a timeout waiting for the ports to get used. \n",
            "\u001b[1;31mView Jupyter <a href='command:jupyter.viewOutput'>log</a> for further details."
          ]
        }
=======
      "source": [
        "#**Modelo de Recomendação - CDF**"
      ],
      "metadata": {
        "id": "Se5LdfEJtXMN"
      }
    },
    {
      "cell_type": "markdown",
      "source": [
        "# Introdução\n",
        "\n",
        "#### O objetivo principal deste projeto é desenvolver um modelo de recomendação que possa prever a avaliação de um usuário para diferentes projetos, baseado em suas avaliações anteriores. Especificamente, busca-se recomendar projetos com base em avaliações positivas anteriores e normalizar essas recomendações em uma escala de 0 a 1, filtrando para retornar apenas projetos com uma pontuação de recomendação acima de 0.7.\n"
      ],
      "metadata": {
        "id": "HQp5bCDajphQ"
      }
    },
    {
      "cell_type": "markdown",
      "source": [
        "# Importações\n",
        "\n",
        "#### Nesta seção, são importadas todas as bibliotecas e pacotes necessários para a execução do projeto. As bibliotecas incluem Surprise para a criação do sistema de recomendação, pandas para manipulação de dados, joblib para salvar e carregar modelos, matplotlib e seaborn para visualização de dados, e sklearn para métricas de avaliação."
      ],
      "metadata": {
        "id": "w_-VibvPmwrS"
      }
    },
    {
      "cell_type": "code",
      "source": [
        "!pip install gdown"
      ],
      "metadata": {
        "colab": {
          "base_uri": "https://localhost:8080/"
        },
        "id": "OROTOtFQUyMV",
        "outputId": "143c9faf-6498-49ed-edf9-5fec2ae4c367"
      },
      "execution_count": null,
      "outputs": [
        {
          "output_type": "stream",
          "name": "stdout",
          "text": [
            "Requirement already satisfied: gdown in /usr/local/lib/python3.10/dist-packages (5.1.0)\n",
            "Requirement already satisfied: beautifulsoup4 in /usr/local/lib/python3.10/dist-packages (from gdown) (4.12.3)\n",
            "Requirement already satisfied: filelock in /usr/local/lib/python3.10/dist-packages (from gdown) (3.14.0)\n",
            "Requirement already satisfied: requests[socks] in /usr/local/lib/python3.10/dist-packages (from gdown) (2.31.0)\n",
            "Requirement already satisfied: tqdm in /usr/local/lib/python3.10/dist-packages (from gdown) (4.66.4)\n",
            "Requirement already satisfied: soupsieve>1.2 in /usr/local/lib/python3.10/dist-packages (from beautifulsoup4->gdown) (2.5)\n",
            "Requirement already satisfied: charset-normalizer<4,>=2 in /usr/local/lib/python3.10/dist-packages (from requests[socks]->gdown) (3.3.2)\n",
            "Requirement already satisfied: idna<4,>=2.5 in /usr/local/lib/python3.10/dist-packages (from requests[socks]->gdown) (3.7)\n",
            "Requirement already satisfied: urllib3<3,>=1.21.1 in /usr/local/lib/python3.10/dist-packages (from requests[socks]->gdown) (2.0.7)\n",
            "Requirement already satisfied: certifi>=2017.4.17 in /usr/local/lib/python3.10/dist-packages (from requests[socks]->gdown) (2024.6.2)\n",
            "Requirement already satisfied: PySocks!=1.5.7,>=1.5.6 in /usr/local/lib/python3.10/dist-packages (from requests[socks]->gdown) (1.7.1)\n"
          ]
        }
      ]
    },
    {
      "cell_type": "code",
      "source": [
        "!gdown --id 17k8z5b3wVJ0kjSZYPNVVe8_csaXorkU3"
      ],
      "metadata": {
        "id": "_wN5bvslMPVv",
        "colab": {
          "base_uri": "https://localhost:8080/"
        },
        "outputId": "048f70b4-3780-4e54-ff99-5018872fc4da"
      },
      "execution_count": null,
      "outputs": [
        {
          "output_type": "stream",
          "name": "stdout",
          "text": [
            "/usr/local/lib/python3.10/dist-packages/gdown/__main__.py:132: FutureWarning: Option `--id` was deprecated in version 4.3.1 and will be removed in 5.0. You don't need to pass it anymore to use a file ID.\n",
            "  warnings.warn(\n",
            "Downloading...\n",
            "From: https://drive.google.com/uc?id=17k8z5b3wVJ0kjSZYPNVVe8_csaXorkU3\n",
            "To: /content/ITL-ESM6-2024-dataset-recomendação - ds-avaliação.csv\n",
            "100% 104k/104k [00:00<00:00, 3.56MB/s]\n"
          ]
        }
      ]
    },
    {
      "cell_type": "code",
      "source": [
        "# Instalar o pacote scikit-surprise\n",
        "!pip install scikit-surprise"
>>>>>>> ec2afde89fd63e57a741b7c4d3b64c6d79471b23:src/notebooks/Modelo_de_Recomendação_CDF.ipynb
      ],
      "source": [
        "from google.colab import drive\n",
        "drive.mount('/content/drive')"
      ]
    },
    {
      "cell_type": "markdown",
      "metadata": {
        "id": "c9xHfK7AuJjd"
      },
      "source": [
        "O comando abaixo instala a biblioteca scikit-surprise utilizando o pip, um gerenciador de pacotes do Python. A biblioteca scikit-surprise é uma ferramenta de machine learning para recomendação e análise de sistemas de recomendação."
      ]
    },
    {
      "cell_type": "code",
      "execution_count": null,
      "metadata": {
        "colab": {
          "base_uri": "https://localhost:8080/"
        },
        "id": "cjD3M1hiPG38",
        "outputId": "ce471c07-9b66-4110-c277-b8d5019f9f27"
      },
<<<<<<< HEAD:src/notebooks/Modelo_de_Recomendacao_CDF.ipynb
      "outputs": [
        {
          "ename": "",
          "evalue": "",
          "output_type": "error",
          "traceback": [
            "\u001b[1;31mFailed to start the Kernel. \n",
            "\u001b[1;31mUnable to start Kernel 'Python 3.11.4' due to a timeout waiting for the ports to get used. \n",
            "\u001b[1;31mView Jupyter <a href='command:jupyter.viewOutput'>log</a> for further details."
=======
      "execution_count": null,
      "outputs": [
        {
          "output_type": "stream",
          "name": "stdout",
          "text": [
            "Collecting scikit-surprise\n",
            "  Downloading scikit_surprise-1.1.4.tar.gz (154 kB)\n",
            "\u001b[2K     \u001b[90m━━━━━━━━━━━━━━━━━━━━━━━━━━━━━━━━━━━━━━━━\u001b[0m \u001b[32m154.4/154.4 kB\u001b[0m \u001b[31m4.0 MB/s\u001b[0m eta \u001b[36m0:00:00\u001b[0m\n",
            "\u001b[?25h  Installing build dependencies ... \u001b[?25l\u001b[?25hdone\n",
            "  Getting requirements to build wheel ... \u001b[?25l\u001b[?25hdone\n",
            "  Preparing metadata (pyproject.toml) ... \u001b[?25l\u001b[?25hdone\n",
            "Requirement already satisfied: joblib>=1.2.0 in /usr/local/lib/python3.10/dist-packages (from scikit-surprise) (1.4.2)\n",
            "Requirement already satisfied: numpy>=1.19.5 in /usr/local/lib/python3.10/dist-packages (from scikit-surprise) (1.25.2)\n",
            "Requirement already satisfied: scipy>=1.6.0 in /usr/local/lib/python3.10/dist-packages (from scikit-surprise) (1.11.4)\n",
            "Building wheels for collected packages: scikit-surprise\n",
            "  Building wheel for scikit-surprise (pyproject.toml) ... \u001b[?25l\u001b[?25hdone\n",
            "  Created wheel for scikit-surprise: filename=scikit_surprise-1.1.4-cp310-cp310-linux_x86_64.whl size=2357255 sha256=3bc926e2fe705dca1c0f3e4d8feb32aec2d13d3f92370c515bee674a251b8f2e\n",
            "  Stored in directory: /root/.cache/pip/wheels/4b/3f/df/6acbf0a40397d9bf3ff97f582cc22fb9ce66adde75bc71fd54\n",
            "Successfully built scikit-surprise\n",
            "Installing collected packages: scikit-surprise\n",
            "Successfully installed scikit-surprise-1.1.4\n"
          ]
        }
      ]
    },
    {
      "cell_type": "code",
      "source": [
        "# Importar as bibliotecas necessárias\n",
        "from surprise import Dataset, Reader, SVD\n",
        "from surprise.model_selection import cross_validate, train_test_split\n",
        "import pandas as pd\n",
        "from joblib import dump, load\n",
        "import numpy as np\n",
        "import matplotlib.pyplot as plt\n",
        "from sklearn.metrics import mean_squared_error, mean_absolute_error, roc_curve, auc, confusion_matrix, ConfusionMatrixDisplay\n"
      ],
      "metadata": {
        "id": "3vpyqkjHM2Nz"
      },
      "execution_count": null,
      "outputs": []
    },
    {
      "cell_type": "markdown",
      "source": [
        "# Carregar dados\n",
        "\n",
        "#### Esta seção é responsável por carregar o conjunto de dados de avaliações dos usuários a partir de um arquivo CSV. O dataset contém informações sobre as avaliações que os usuários deram a diferentes projetos, incluindo identificadores de usuário, identificadores de projeto e as avaliações propriamente ditas."
      ],
      "metadata": {
        "id": "-MNRwg7Bj4qg"
      }
    },
    {
      "cell_type": "code",
      "source": [
        "# Carregar os dados das avaliações dos usuários\n",
        "df_avaliacoes = pd.read_csv('ITL-ESM6-2024-dataset-recomendação - ds-avaliação.csv')"
      ],
      "metadata": {
        "id": "_1BRWsHzj_Sq"
      },
      "execution_count": null,
      "outputs": []
    },
    {
      "cell_type": "markdown",
      "source": [
        "# Visualização dos dados\n",
        "\n",
        "#### Aqui, os dados carregados são explorados e visualizados para uma compreensão inicial. A visualização inclui a exibição das primeiras linhas do dataset, o que permite verificar a estrutura e o conteúdo dos dados."
      ],
      "metadata": {
        "id": "g-c7N3gMkJU_"
      }
    },
    {
      "cell_type": "code",
      "source": [
        "print(\"Visualização inicial dos dados das avaliações:\")\n",
        "print(df_avaliacoes.head())"
      ],
      "metadata": {
        "colab": {
          "base_uri": "https://localhost:8080/"
        },
        "id": "3c8kEwklkOP7",
        "outputId": "deb115ed-f9a3-4d4b-a0d8-a8538c7b6c88"
      },
      "execution_count": null,
      "outputs": [
        {
          "output_type": "stream",
          "name": "stdout",
          "text": [
            "Visualização inicial dos dados das avaliações:\n",
            "   id_proponente  id_projeto  avaliação\n",
            "0              1        1119          4\n",
            "1              1         300          3\n",
            "2              1          11          4\n",
            "3              1        1121          1\n",
            "4              1         937          4\n"
>>>>>>> ec2afde89fd63e57a741b7c4d3b64c6d79471b23:src/notebooks/Modelo_de_Recomendação_CDF.ipynb
          ]
        }
      ],
      "source": [
        "pip install scikit-surprise"
      ]
    },
    {
      "cell_type": "markdown",
      "metadata": {
        "id": "C66qgehIusqe"
      },
      "source": [
        "# Treinamento do modelo\n",
        "\n",
<<<<<<< HEAD:src/notebooks/Modelo_de_Recomendacao_CDF.ipynb
        "1. Importa as bibliotecas necessárias, incluindo `Dataset` e `Reader` da biblioteca scikit-surprise, bem como `pandas` para manipulação de dados e `KNNBasic` para o algoritmo de filtragem colaborativa.\n",
        "\n",
        "2. Carrega os dados de um arquivo CSV localizado no Google Drive.\n",
        "\n",
        "3. O caminho para o arquivo CSV está definido como `'/content/drive/MyDrive/ITL-ESM6-2024-dataset-recomendação - ds-avaliação.csv'`. Certifique-se de substituir este caminho pelo caminho real do seu arquivo CSV. Este caminho indica que o arquivo CSV está localizado na pasta `MyDrive` do Google Drive."
      ]
=======
        "#### Nesta etapa, os dados são preparados para o treinamento do modelo de recomendação. Utiliza-se o algoritmo SVD (Singular Value Decomposition) para treinar o modelo com base nas avaliações dos usuários. Os dados são divididos em conjuntos de treinamento e teste, e o modelo é treinado utilizando o conjunto de treinamento."
      ],
      "metadata": {
        "id": "D179KgrfkkWQ"
      }
>>>>>>> ec2afde89fd63e57a741b7c4d3b64c6d79471b23:src/notebooks/Modelo_de_Recomendação_CDF.ipynb
    },
    {
      "cell_type": "code",
      "execution_count": null,
      "metadata": {
        "id": "3vpyqkjHM2Nz"
      },
      "outputs": [
        {
          "ename": "",
          "evalue": "",
          "output_type": "error",
          "traceback": [
            "\u001b[1;31mFailed to start the Kernel. \n",
            "\u001b[1;31mUnable to start Kernel 'Python 3.11.4' due to a timeout waiting for the ports to get used. \n",
            "\u001b[1;31mView Jupyter <a href='command:jupyter.viewOutput'>log</a> for further details."
          ]
        }
      ],
      "source": [
<<<<<<< HEAD:src/notebooks/Modelo_de_Recomendacao_CDF.ipynb
        "# Importar as bibliotecas necessárias\n",
        "from surprise import Dataset, Reader\n",
        "\n",
        "# Carregar os dados\n",
        "import pandas as pd\n",
        "\n",
        "from joblib import dump, load\n",
        "from surprise.model_selection import cross_validate\n",
        "from surprise.model_selection import train_test_split\n",
        "from surprise import KNNBasic\n",
        "\n",
        "# Substitua 'caminho_para_o_arquivo.csv' pelo caminho real do seu arquivo CSV\n",
        "df = pd.read_csv('/content/drive/MyDrive/ITL-ESM6-2024-dataset-recomendação - ds-avaliação.csv')"
      ]
    },
    {
      "cell_type": "markdown",
      "metadata": {
        "id": "QPq_f2dF69nw"
      },
      "source": [
        "O trecho de código abaixo utiliza a função `Reader` da biblioteca scikit-surprise para definir a escala de classificação dos dados, que neste caso está entre 1 e 5. Em seguida, carrega o conjunto de dados em um formato compatível com o scikit-surprise usando `Dataset.load_from_df()`, onde `df[['id_proponente', 'id_projeto', 'avaliação']]` seleciona as colunas relevantes do DataFrame `df` para criar o conjunto de dados. Este conjunto de dados inclui informações sobre o id do proponente, id do projeto e avaliação."
      ]
    },
    {
=======
        "# Criar um novo DataFrame com as três colunas necessárias para o Surprise\n",
        "df_surprise = df_avaliacoes[['id_proponente', 'id_projeto', 'avaliação']]\n",
        "df_surprise.columns = ['user', 'item', 'rating']"
      ],
      "metadata": {
        "id": "6rQr3kOi3GVk"
      },
      "execution_count": null,
      "outputs": []
    },
    {
>>>>>>> ec2afde89fd63e57a741b7c4d3b64c6d79471b23:src/notebooks/Modelo_de_Recomendação_CDF.ipynb
      "cell_type": "code",
      "execution_count": null,
      "metadata": {
        "id": "_LSVT2fxpkQm"
      },
      "outputs": [
        {
          "ename": "",
          "evalue": "",
          "output_type": "error",
          "traceback": [
            "\u001b[1;31mFailed to start the Kernel. \n",
            "\u001b[1;31mUnable to start Kernel 'Python 3.11.4' due to a timeout waiting for the ports to get used. \n",
            "\u001b[1;31mView Jupyter <a href='command:jupyter.viewOutput'>log</a> for further details."
          ]
        }
      ],
      "source": [
        "# Criar um dataset para o Surprise\n",
        "reader = Reader(rating_scale=(1, 5))\n",
<<<<<<< HEAD:src/notebooks/Modelo_de_Recomendacao_CDF.ipynb
        "data = Dataset.load_from_df(df[['id_proponente', 'id_projeto', 'avaliação']], reader)"
      ]
    },
    {
      "cell_type": "markdown",
      "metadata": {
        "id": "yjepH8bz7M3k"
      },
      "source": [
        "O código abaixo está criando uma matriz de dados pivotada (também conhecida como tabela dinâmica) a partir do DataFrame `df`. A função `pivot` é usada para reorganizar os dados, onde:\n",
        "\n",
        "- O índice da matriz será os valores únicos da coluna `'id_proponente'`.\n",
        "- As colunas da matriz serão os valores únicos da coluna `'id_projeto'`.\n",
        "- Os valores da matriz serão extraídos da coluna `'avaliação'` do DataFrame original `df`.\n",
        "\n",
        "Essencialmente, isso reorganiza os dados de forma que cada célula na matriz represente a avaliação de um proponente para um determinado projeto."
      ]
    },
    {
      "cell_type": "code",
      "execution_count": null,
      "metadata": {
        "id": "PnMWJ70zt-fa"
      },
      "outputs": [
        {
          "ename": "",
          "evalue": "",
          "output_type": "error",
          "traceback": [
            "\u001b[1;31mFailed to start the Kernel. \n",
            "\u001b[1;31mUnable to start Kernel 'Python 3.11.4' due to a timeout waiting for the ports to get used. \n",
            "\u001b[1;31mView Jupyter <a href='command:jupyter.viewOutput'>log</a> for further details."
          ]
        }
      ],
      "source": [
        "matrix_df = df.pivot(index='id_proponente', columns='id_projeto', values='avaliação')"
      ]
    },
    {
      "cell_type": "markdown",
      "metadata": {
        "id": "EGrFjMwu8u82"
      },
      "source": [
        "O trecho de código abaixo divide o conjunto de dados em dois conjuntos: um conjunto de treinamento e um conjunto de teste. A função `train_test_split` é usada para essa divisão.\n",
        "\n",
        "- `data` é o conjunto de dados carregado anteriormente usando a biblioteca scikit-surprise.\n",
        "- `test_size=0.2` especifica que 20% dos dados serão utilizados como conjunto de teste, enquanto os restantes 80% serão usados como conjunto de treinamento.\n",
        "- `random_state=42` é usado para garantir reprodutibilidade, ou seja, ao definir um valor fixo para `random_state`, a divisão será sempre a mesma se o código for executado novamente com o mesmo valor de `random_state`.\n",
        "\n",
        "Após a execução deste código, `trainset` conterá o conjunto de dados de treinamento e `testset` conterá o conjunto de dados de teste. Isso é útil para avaliar o desempenho do modelo de recomendação."
      ]
    },
    {
=======
        "data = Dataset.load_from_df(df_surprise, reader)"
      ],
      "metadata": {
        "id": "w7xWESD33Izq"
      },
      "execution_count": null,
      "outputs": []
    },
    {
>>>>>>> ec2afde89fd63e57a741b7c4d3b64c6d79471b23:src/notebooks/Modelo_de_Recomendação_CDF.ipynb
      "cell_type": "code",
      "execution_count": null,
      "metadata": {
        "id": "f8XVH6583MIF"
      },
<<<<<<< HEAD:src/notebooks/Modelo_de_Recomendacao_CDF.ipynb
      "outputs": [
        {
          "ename": "",
          "evalue": "",
          "output_type": "error",
          "traceback": [
            "\u001b[1;31mFailed to start the Kernel. \n",
            "\u001b[1;31mUnable to start Kernel 'Python 3.11.4' due to a timeout waiting for the ports to get used. \n",
            "\u001b[1;31mView Jupyter <a href='command:jupyter.viewOutput'>log</a> for further details."
          ]
        }
      ],
      "source": [
        "# Dividindo o conjunto de dados em treinamento e teste\n",
        "trainset, testset = train_test_split(data, test_size=0.2, random_state=42)"
      ]
    },
    {
      "cell_type": "markdown",
      "metadata": {
        "id": "IeHQqjeX9X5x"
      },
      "source": [
        "Este trecho de código treina um modelo de filtragem colaborativa k-NN (k-Nearest Neighbors) usando a biblioteca scikit-surprise. Aqui está o que está acontecendo:\n",
        "\n",
        "- `sim_options` é um dicionário que especifica as opções para calcular a similaridade entre os usuários. Neste caso, está definido para usar a similaridade do cosseno (`'name': 'cosine'`) e a abordagem baseada em usuário (`'user_based': True`). Isso significa que o modelo calculará a similaridade entre os usuários com base em suas avaliações.\n",
        "\n",
        "- `modelo = KNNBasic(sim_options=sim_options)` cria uma instância do modelo k-NN com as opções de similaridade especificadas.\n",
        "\n",
        "- `modelo.fit(trainset)` treina o modelo usando o conjunto de treinamento `trainset`.\n",
        "\n",
        "Após a execução deste código, o modelo estará pronto para fazer previsões com base nas similaridades calculadas entre os usuários."
      ]
    },
    {
=======
      "execution_count": null,
      "outputs": []
    },
    {
>>>>>>> ec2afde89fd63e57a741b7c4d3b64c6d79471b23:src/notebooks/Modelo_de_Recomendação_CDF.ipynb
      "cell_type": "code",
      "execution_count": null,
      "metadata": {
        "colab": {
          "base_uri": "https://localhost:8080/"
        },
        "id": "_onsgkTopslR",
        "outputId": "d3827648-ada6-42ec-f9e8-50e144af7502"
      },
      "outputs": [
        {
          "ename": "",
          "evalue": "",
          "output_type": "error",
          "traceback": [
            "\u001b[1;31mFailed to start the Kernel. \n",
            "\u001b[1;31mUnable to start Kernel 'Python 3.11.4' due to a timeout waiting for the ports to get used. \n",
            "\u001b[1;31mView Jupyter <a href='command:jupyter.viewOutput'>log</a> for further details."
          ]
        }
      ],
      "source": [
        "# Treinar modelo SVD\n",
        "model = SVD()\n",
        "model.fit(trainset)"
<<<<<<< HEAD:src/notebooks/Modelo_de_Recomendacao_CDF.ipynb
=======
      ],
      "metadata": {
        "id": "_onsgkTopslR",
        "colab": {
          "base_uri": "https://localhost:8080/"
        },
        "outputId": "9872fd9d-bda1-4ac5-850d-c841c733d73e"
      },
      "execution_count": null,
      "outputs": [
        {
          "output_type": "execute_result",
          "data": {
            "text/plain": [
              "<surprise.prediction_algorithms.matrix_factorization.SVD at 0x7f788642b8e0>"
            ]
          },
          "metadata": {},
          "execution_count": 24
        }
>>>>>>> ec2afde89fd63e57a741b7c4d3b64c6d79471b23:src/notebooks/Modelo_de_Recomendação_CDF.ipynb
      ]
    },
    {
      "cell_type": "markdown",
      "metadata": {
        "id": "c3rWgl2wz-lz"
      },
      "source": [
        "# Avaliação do modelo\n",
        "\n",
<<<<<<< HEAD:src/notebooks/Modelo_de_Recomendacao_CDF.ipynb
        "- `modelo = KNNBasic(sim_options=sim_options)` redefine o modelo k-NN com as mesmas opções de similaridade definidas anteriormente.\n",
        "\n",
        "- `resultados = cross_validate(modelo, data, measures=['RMSE', 'MAE'], cv=5, verbose=True)` executa a validação cruzada do modelo. Ele calcula as métricas de erro quadrático médio (RMSE) e erro absoluto médio (MAE) usando uma validação cruzada de 5 dobras. O parâmetro `verbose=True` exibirá informações detalhadas durante o processo.\n",
        "\n",
        "- `rmse_medio = np.mean(resultados['test_rmse'])` calcula a média do RMSE (Root Mean Squared Error) dos resultados da validação cruzada.\n",
        "- `mae_medio = np.mean(resultados['test_mae'])` calcula a média do MAE (Mean Absolute Error) dos resultados da validação cruzada.\n",
        "\n",
        "- Finalmente, `print` é usado para exibir a média do RMSE e do MAE.\n",
        "\n",
        "Este procedimento fornece uma estimativa do desempenho médio do modelo em termos de RMSE e MAE, o que pode ser útil para avaliar sua capacidade de generalização e precisão."
      ]
=======
        "#### Após o treinamento, o modelo é avaliado utilizando métricas como RMSE (Root Mean Squared Error) e MAE (Mean Absolute Error) através de validação cruzada. Esta seção também inclui a visualização das avaliações reais versus previstas, a distribuição dos erros e a construção de uma matriz de confusão e curva ROC para uma análise binária das recomendações."
      ],
      "metadata": {
        "id": "rv4OV58zlOTJ"
      }
>>>>>>> ec2afde89fd63e57a741b7c4d3b64c6d79471b23:src/notebooks/Modelo_de_Recomendação_CDF.ipynb
    },
    {
      "cell_type": "code",
      "execution_count": null,
      "metadata": {
        "id": "vxHokZZYSIyC"
      },
      "outputs": [
        {
          "ename": "",
          "evalue": "",
          "output_type": "error",
          "traceback": [
            "\u001b[1;31mFailed to start the Kernel. \n",
            "\u001b[1;31mUnable to start Kernel 'Python 3.11.4' due to a timeout waiting for the ports to get used. \n",
            "\u001b[1;31mView Jupyter <a href='command:jupyter.viewOutput'>log</a> for further details."
          ]
        }
      ],
      "source": [
<<<<<<< HEAD:src/notebooks/Modelo_de_Recomendacao_CDF.ipynb
        "# Salvando o modelo treinado usando joblib\n",
        "dump(model, 'modelo_recomendacao.joblib')\n",
        "\n",
        "# Carregando o modelo salvo\n",
        "model_carregado = load('modelo_recomendacao.joblib')"
      ]
    },
    {
      "cell_type": "markdown",
      "metadata": {
        "id": "QkltdHzjTwm9"
      },
      "source": [
        "Salvando o Modelo Treinado Usando Joblib:\n",
        "   - `dump(model, 'modelo_recomendacao.joblib')`: Esta linha de código salva o modelo treinado (`model`) em um arquivo chamado 'modelo_recomendacao.joblib' usando a função `dump` do `joblib`. O arquivo gerado contém todas as informações necessárias para reconstruir o modelo posteriormente.\n",
        "\n",
        "Carregando o Modelo Salvo:\n",
        "   - `model_carregado = load('modelo_recomendacao.joblib')`: Aqui, o código carrega o modelo salvo a partir do arquivo 'modelo_recomendacao.joblib' usando a função `load` do `joblib`. O modelo carregado é atribuído à variável `model_carregado` e pode ser usado para fazer previsões sem a necessidade de treinar o modelo novamente."
=======
        "# Salvar e carregar modelo\n",
        "dump(model, 'modelo_recomendacao_svd.joblib')\n",
        "model_carregado = load('modelo_recomendacao_svd.joblib')"
      ],
      "metadata": {
        "id": "2ODXpAIPlTGG"
      },
      "execution_count": null,
      "outputs": []
    },
    {
      "cell_type": "code",
      "source": [
        "# Validação cruzada\n",
        "results = cross_validate(model_carregado, data, measures=['RMSE', 'MAE'], cv=5, verbose=True)\n",
        "average_rmse = np.mean(results['test_rmse'])\n",
        "average_mae = np.mean(results['test_mae'])"
      ],
      "metadata": {
        "id": "eIfVEEjLuJEy",
        "colab": {
          "base_uri": "https://localhost:8080/"
        },
        "outputId": "3b6263b1-215f-49c7-b872-463c58e1bf1a"
      },
      "execution_count": null,
      "outputs": [
        {
          "output_type": "stream",
          "name": "stdout",
          "text": [
            "Evaluating RMSE, MAE of algorithm SVD on 5 split(s).\n",
            "\n",
            "                  Fold 1  Fold 2  Fold 3  Fold 4  Fold 5  Mean    Std     \n",
            "RMSE (testset)    0.9954  0.9766  0.9802  1.0023  0.9738  0.9857  0.0112  \n",
            "MAE (testset)     0.8282  0.8033  0.8107  0.8308  0.8131  0.8172  0.0106  \n",
            "Fit time          0.14    0.14    0.13    0.14    0.13    0.14    0.00    \n",
            "Test time         0.01    0.01    0.01    0.01    0.03    0.02    0.01    \n"
          ]
        }
>>>>>>> ec2afde89fd63e57a741b7c4d3b64c6d79471b23:src/notebooks/Modelo_de_Recomendação_CDF.ipynb
      ]
    },
    {
      "cell_type": "code",
      "execution_count": null,
      "metadata": {
        "colab": {
          "base_uri": "https://localhost:8080/"
        },
        "id": "eIfVEEjLuJEy",
        "outputId": "c3d7d1d9-55f8-4cb5-f55f-7524a2b3a3e8"
      },
      "outputs": [
        {
          "ename": "",
          "evalue": "",
          "output_type": "error",
          "traceback": [
            "\u001b[1;31mFailed to start the Kernel. \n",
            "\u001b[1;31mUnable to start Kernel 'Python 3.11.4' due to a timeout waiting for the ports to get used. \n",
            "\u001b[1;31mView Jupyter <a href='command:jupyter.viewOutput'>log</a> for further details."
          ]
        }
      ],
      "source": [
        "print(\"\\nAverage RMSE:\", average_rmse)\n",
        "print(\"Average MAE:\", average_mae)"
<<<<<<< HEAD:src/notebooks/Modelo_de_Recomendacao_CDF.ipynb
=======
      ],
      "metadata": {
        "colab": {
          "base_uri": "https://localhost:8080/"
        },
        "id": "3sO450gNF4rA",
        "outputId": "2cb30d81-0ef9-46a4-9aa7-24cc29689e26"
      },
      "execution_count": null,
      "outputs": [
        {
          "output_type": "stream",
          "name": "stdout",
          "text": [
            "\n",
            "Average RMSE: 0.9856573268515346\n",
            "Average MAE: 0.8172110353088092\n"
          ]
        }
>>>>>>> ec2afde89fd63e57a741b7c4d3b64c6d79471b23:src/notebooks/Modelo_de_Recomendação_CDF.ipynb
      ]
    },
    {
      "cell_type": "markdown",
      "metadata": {
        "id": "LjxUbkmLsnTf"
      },
      "source": [
        "# Recomendação\n",
        "\n",
<<<<<<< HEAD:src/notebooks/Modelo_de_Recomendacao_CDF.ipynb
        "- `usuario_id`: ID do usuário para o qual as recomendações serão feitas.\n",
        "- `n`: número de projetos a serem recomendados (o padrão é 5).\n",
        "\n",
        "Dentro da função:\n",
        "\n",
        "- `projetos_avaliados`: obtém os IDs dos projetos que o usuário já avaliou.\n",
        "- `todos_projetos`: obtém todos os IDs de projetos disponíveis.\n",
        "- `projetos_nao_avaliados`: lista os IDs de projetos que o usuário ainda não avaliou.\n",
        "- `predicoes`: faz previsões de avaliações para os projetos não avaliados pelo usuário usando o modelo treinado.\n",
        "- `recomendacoes`: ordena as previsões com base nas avaliações previstas e retorna os IDs dos projetos recomendados, limitados pelo parâmetro `n`.\n",
        "\n",
        "Essa função é útil para gerar recomendações personalizadas para usuários com base em seus padrões de avaliação anteriores e nas previsões do modelo treinado."
      ]
=======
        "#### Nesta seção, é implementada uma função para gerar recomendações personalizadas para um usuário específico. As recomendações são normalizadas em uma escala de 0 a 1 e filtradas para retornar apenas aquelas com uma pontuação acima de 0.7. Esta função utiliza as avaliações positivas anteriores dos usuários para sugerir novos projetos."
      ],
      "metadata": {
        "id": "5OnHc3aDlxzY"
      }
>>>>>>> ec2afde89fd63e57a741b7c4d3b64c6d79471b23:src/notebooks/Modelo_de_Recomendação_CDF.ipynb
    },
    {
      "cell_type": "code",
      "execution_count": null,
      "metadata": {
        "id": "-BXUCR75pwoh"
      },
      "outputs": [
        {
          "ename": "",
          "evalue": "",
          "output_type": "error",
          "traceback": [
            "\u001b[1;31mFailed to start the Kernel. \n",
            "\u001b[1;31mUnable to start Kernel 'Python 3.11.4' due to a timeout waiting for the ports to get used. \n",
            "\u001b[1;31mView Jupyter <a href='command:jupyter.viewOutput'>log</a> for further details."
          ]
        }
      ],
      "source": [
        "# Função para fazer recomendações com base nas avaliações positivas\n",
        "def recommend_based_on_positive_ratings(model, user_id, df_avaliacoes, n=10, rating_threshold=4):\n",
        "    # Verificar se o usuário está na matriz de avaliações\n",
        "    if user_id not in df_avaliacoes['id_proponente'].unique():\n",
        "        print(\"Usuário não encontrado na matriz de avaliações.\")\n",
        "        return []\n",
        "\n",
        "    # Obter IDs dos projetos avaliados pelo usuário com nota acima do threshold\n",
        "    positive_rated_projects = df_avaliacoes[(df_avaliacoes['id_proponente'] == user_id) & (df_avaliacoes['avaliação'] >= rating_threshold)]['id_projeto'].tolist()\n",
        "\n",
        "    if not positive_rated_projects:\n",
        "        print(\"Usuário não tem avaliações positivas acima do threshold.\")\n",
        "        return []\n",
        "\n",
        "    # Obter projetos não avaliados pelo usuário\n",
        "    all_projects = df_avaliacoes['id_projeto'].unique()\n",
        "    rated_projects = df_avaliacoes[df_avaliacoes['id_proponente'] == user_id]['id_projeto'].unique()\n",
        "    unrated_projects = [project for project in all_projects if project not in rated_projects]\n",
        "\n",
        "    recommendations = []\n",
        "\n",
<<<<<<< HEAD:src/notebooks/Modelo_de_Recomendacao_CDF.ipynb
        "    return recommended_projects\n"
      ]
    },
    {
      "cell_type": "code",
      "execution_count": null,
=======
        "    for project_id in positive_rated_projects:\n",
        "        for unrated_project in unrated_projects:\n",
        "            predicted_rating = model.predict(user_id, unrated_project).est\n",
        "            recommendations.append((unrated_project, predicted_rating))\n",
        "\n",
        "    # Normalizar as pontuações de previsão para estarem na escala de 0 a 1\n",
        "    max_rating = max(recommendations, key=lambda x: x[1])[1] if recommendations else 1\n",
        "    recommendations = [(proj_id, rating / max_rating) for proj_id, rating in recommendations]\n",
        "\n",
        "    # Filtrar recomendações para incluir apenas aqueles com pontuação acima de 0.7\n",
        "    filtered_recommendations = [(proj_id, rating) for proj_id, rating in recommendations if rating >= 0.7]\n",
        "\n",
        "    # Ordenar as recomendações pela pontuação de previsão em ordem decrescente e limitar a n recomendações\n",
        "    filtered_recommendations = sorted(filtered_recommendations, key=lambda x: x[1], reverse=True)[:n]\n",
        "\n",
        "    return filtered_recommendations"
      ],
      "metadata": {
        "id": "-BXUCR75pwoh"
      },
      "execution_count": null,
      "outputs": []
    },
    {
      "cell_type": "code",
      "source": [
        "# Exemplo de recomendação para um usuário específico\n",
        "user_id = 1000\n",
        "recommendations = recommend_based_on_positive_ratings(model_carregado, user_id, df_avaliacoes)\n",
        "print(\"Projetos recomendados para o usuário\", user_id, \"com base em avaliações positivas:\")\n",
        "for project_id, normalized_rating in recommendations:\n",
        "    print(f\"Projeto {project_id} - Pontuação Normalizada: {normalized_rating:.2f}\")"
      ],
>>>>>>> ec2afde89fd63e57a741b7c4d3b64c6d79471b23:src/notebooks/Modelo_de_Recomendação_CDF.ipynb
      "metadata": {
        "id": "bpfT53K1c3zJ",
        "colab": {
          "base_uri": "https://localhost:8080/"
        },
        "outputId": "9d1dc5ad-5bb9-4115-cf27-18008ce61f5b"
      },
<<<<<<< HEAD:src/notebooks/Modelo_de_Recomendacao_CDF.ipynb
      "outputs": [
        {
          "ename": "",
          "evalue": "",
          "output_type": "error",
          "traceback": [
            "\u001b[1;31mFailed to start the Kernel. \n",
            "\u001b[1;31mUnable to start Kernel 'Python 3.11.4' due to a timeout waiting for the ports to get used. \n",
            "\u001b[1;31mView Jupyter <a href='command:jupyter.viewOutput'>log</a> for further details."
=======
      "execution_count": null,
      "outputs": [
        {
          "output_type": "stream",
          "name": "stdout",
          "text": [
            "Projetos recomendados para o usuário 1000 com base em avaliações positivas:\n",
            "Projeto 981 - Pontuação Normalizada: 1.00\n",
            "Projeto 1394 - Pontuação Normalizada: 0.99\n",
            "Projeto 1295 - Pontuação Normalizada: 0.99\n",
            "Projeto 1122 - Pontuação Normalizada: 0.99\n",
            "Projeto 700 - Pontuação Normalizada: 0.99\n",
            "Projeto 155 - Pontuação Normalizada: 0.98\n",
            "Projeto 635 - Pontuação Normalizada: 0.97\n",
            "Projeto 12 - Pontuação Normalizada: 0.97\n",
            "Projeto 321 - Pontuação Normalizada: 0.96\n",
            "Projeto 593 - Pontuação Normalizada: 0.96\n"
>>>>>>> ec2afde89fd63e57a741b7c4d3b64c6d79471b23:src/notebooks/Modelo_de_Recomendação_CDF.ipynb
          ]
        }
      ],
      "source": [
        "user_id = 123\n",
        "recommendations = recommend(matrix_df, model_carregado, user_id)\n",
        "print(\"Projetos recomendados para o usuário\", user_id, \":\", recommendations)\n"
      ]
    },
    {
      "cell_type": "markdown",
      "source": [
        "# Avaliando a recomendação\n",
        "\n",
        "#### A última seção avalia as recomendações geradas pelo modelo. Inclui a visualização da correspondência entre avaliações reais e previstas, a análise da distribuição dos erros, a construção da matriz de confusão e da curva ROC, e a análise do desempenho do modelo por diferentes grupos de usuários baseados nos níveis de atividade."
      ],
      "metadata": {
        "id": "91YOFJVWWqhs"
      }
    },
    {
      "cell_type": "code",
      "source": [
        "# Avaliando as recomendações no conjunto de teste\n",
        "predictions = model_carregado.test(testset)\n",
        "\n",
        "# Extraindo avaliações reais e previstas\n",
        "y_true = [pred.r_ui for pred in predictions]\n",
        "y_pred = [pred.est for pred in predictions]"
      ],
      "metadata": {
        "id": "RqLbIrEUWuV_"
      },
      "execution_count": null,
      "outputs": []
    },
    {
      "cell_type": "code",
      "source": [
        "# Distribuição das Avaliações Reais vs. Previstos\n",
        "plt.figure(figsize=(10, 6))\n",
        "plt.scatter(y_true, y_pred, alpha=0.5)\n",
        "plt.plot([min(y_true), max(y_true)], [min(y_true), max(y_true)], color='red', linestyle='--')\n",
        "plt.xlabel('Avaliações Reais')\n",
        "plt.ylabel('Avaliações Previstos')\n",
        "plt.title('Avaliações Reais vs. Previstos')\n",
        "plt.show()"
      ],
      "metadata": {
        "id": "S2HJN_AxW2vP",
        "colab": {
          "base_uri": "https://localhost:8080/",
          "height": 564
        },
        "outputId": "8c6b5dd2-92fe-42f5-82fe-145760ca48e4"
      },
      "execution_count": null,
      "outputs": [
        {
          "output_type": "display_data",
          "data": {
            "text/plain": [
              "<Figure size 1000x600 with 1 Axes>"
            ],
            "image/png": "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\n"
          },
          "metadata": {}
        }
      ]
    },
    {
      "cell_type": "code",
      "source": [
        "# Histograma dos Erros\n",
        "errors = np.array(y_true) - np.array(y_pred)\n",
        "plt.figure(figsize=(10, 6))\n",
        "plt.hist(errors, bins=50, alpha=0.75, color='blue')\n",
        "plt.xlabel('Erro (Real - Previsto)')\n",
        "plt.ylabel('Frequência')\n",
        "plt.title('Distribuição dos Erros')\n",
        "plt.show()"
      ],
      "metadata": {
        "id": "YQNz7XaaW_p1",
        "colab": {
          "base_uri": "https://localhost:8080/",
          "height": 564
        },
        "outputId": "a3f620a8-9595-4898-ff9a-19bb3015ec5d"
      },
      "execution_count": null,
      "outputs": [
        {
          "output_type": "display_data",
          "data": {
            "text/plain": [
              "<Figure size 1000x600 with 1 Axes>"
            ],
            "image/png": "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\n"
          },
          "metadata": {}
        }
      ]
    },
    {
      "cell_type": "code",
      "source": [
        "# Matriz de Confusão (para uma análise binária simples de recomendação)\n",
        "threshold = 3.0  # Definindo um limiar para considerarmos uma recomendação positiva\n",
        "y_true_bin = [1 if rating >= threshold else 0 for rating in y_true]\n",
        "y_pred_bin = [1 if rating >= threshold else 0 for rating in y_pred]\n",
        "\n",
        "cm = confusion_matrix(y_true_bin, y_pred_bin)\n",
        "cmd = ConfusionMatrixDisplay(cm, display_labels=['Não Recomendado', 'Recomendado'])\n",
        "cmd.plot()\n",
        "plt.title('Matriz de Confusão')\n",
        "plt.show()"
      ],
      "metadata": {
        "id": "4c0uSQdFXGKO",
        "colab": {
          "base_uri": "https://localhost:8080/",
          "height": 472
        },
        "outputId": "2756fa2b-d3cc-4207-ea40-9a094a2b93a6"
      },
      "execution_count": null,
      "outputs": [
        {
          "output_type": "display_data",
          "data": {
            "text/plain": [
              "<Figure size 640x480 with 2 Axes>"
            ],
            "image/png": "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\n"
          },
          "metadata": {}
        }
      ]
    },
    {
      "cell_type": "code",
      "source": [
        "# Curva ROC e AUC\n",
        "fpr, tpr, _ = roc_curve(y_true_bin, y_pred_bin)\n",
        "roc_auc = auc(fpr, tpr)\n",
        "\n",
        "plt.figure(figsize=(10, 6))\n",
        "plt.plot(fpr, tpr, color='darkorange', lw=2, label='Curva ROC (AUC = %0.2f)' % roc_auc)\n",
        "plt.plot([0, 1], [0, 1], color='navy', lw=2, linestyle='--')\n",
        "plt.xlim([0.0, 1.0])\n",
        "plt.ylim([0.0, 1.05])\n",
        "plt.xlabel('Taxa de Falsos Positivos')\n",
        "plt.ylabel('Taxa de Verdadeiros Positivos')\n",
        "plt.title('Curva ROC')\n",
        "plt.legend(loc=\"lower right\")\n",
        "plt.show()"
      ],
      "metadata": {
        "id": "LFpoTLN5XUq7",
        "colab": {
          "base_uri": "https://localhost:8080/",
          "height": 564
        },
        "outputId": "78061f60-3b36-4ff5-c999-509e7c63b81a"
      },
      "execution_count": null,
      "outputs": [
        {
          "output_type": "display_data",
          "data": {
            "text/plain": [
              "<Figure size 1000x600 with 1 Axes>"
            ],
            "image/png": "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\n"
          },
          "metadata": {}
        }
      ]
    },
    {
      "cell_type": "code",
      "source": [
        "# Adicionar colunas de atividade do usuário e nível de atividade\n",
        "df_avaliacoes['user_activity'] = df_avaliacoes.groupby('id_proponente')['id_projeto'].transform('count')\n",
        "df_avaliacoes['user_activity_level'] = pd.qcut(df_avaliacoes['user_activity'], q=4, labels=['Baixo', 'Médio', 'Alto', 'Muito Alto'])\n",
        "\n",
        "# Tabela de desempenho por grupo de usuários\n",
        "performance_by_activity = df_avaliacoes.groupby('user_activity_level')['avaliação'].agg(['mean', 'count']).reset_index()\n",
        "print(\"\\nDesempenho por Grupo de Usuários:\")\n",
        "print(performance_by_activity)"
      ],
      "metadata": {
        "id": "WvNPCOZxXa2o",
        "colab": {
          "base_uri": "https://localhost:8080/"
        },
        "outputId": "f560a1f0-5187-4724-ff52-3ff4276fb643"
      },
      "execution_count": null,
      "outputs": [
        {
          "output_type": "stream",
          "name": "stdout",
          "text": [
            "\n",
            "Desempenho por Grupo de Usuários:\n",
            "  user_activity_level      mean  count\n",
            "0               Baixo  3.028916   3562\n",
            "1               Médio  3.070370   1890\n",
            "2                Alto  3.046145   1712\n",
            "3          Muito Alto  3.034073   1937\n"
          ]
        }
      ]
    },
    {
      "cell_type": "markdown",
      "source": [
        "# Conclusão\n",
        "\n",
        "#### Através da implementação deste sistema de recomendação, espera-se proporcionar uma experiência personalizada aos usuários, sugerindo projetos que têm uma alta probabilidade de serem bem recebidos, com base em suas avaliações anteriores."
      ],
      "metadata": {
        "id": "or2ygfQhI8SB"
      }
    }
  ],
  "metadata": {
    "colab": {
      "provenance": []
    },
    "kernelspec": {
      "display_name": "Python 3",
      "name": "python3"
    },
    "language_info": {
      "name": "python",
      "version": "3.11.4"
    }
  },
  "nbformat": 4,
  "nbformat_minor": 0
}
